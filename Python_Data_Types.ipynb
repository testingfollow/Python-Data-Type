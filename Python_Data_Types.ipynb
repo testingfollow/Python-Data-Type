{
  "nbformat": 4,
  "nbformat_minor": 0,
  "metadata": {
    "colab": {
      "provenance": []
    },
    "kernelspec": {
      "name": "python3",
      "display_name": "Python 3"
    },
    "language_info": {
      "name": "python"
    }
  },
  "cells": [
    {
      "cell_type": "markdown",
      "source": [
        "# Theory Questions And Answers"
      ],
      "metadata": {
        "id": "hKx5j2F0MDC3"
      }
    },
    {
      "cell_type": "markdown",
      "source": [
        "1.\tWhat are data structures, and why are they important?\n",
        "   - Data structures are not just about storing data; they also define the relationships between data elements and the operations that can be performed on them. Different data structures are suited for different tasks, and choosing the right one can significantly impact the performance of a program\n",
        "   Efficiency, Organization, Scalability, Code Readability, Problem Solving.etc\n"
      ],
      "metadata": {
        "id": "CU7ZhzfEMN1_"
      }
    },
    {
      "cell_type": "markdown",
      "source": [
        "2.\tExplain the difference between mutable and immutable data types with examples?\n",
        "   - mutable data types can be modified after creation, while immutable data types cannot. Lists, dictionaries, and sets are mutable, meaning their contents can be changed. Strings and tuples are immutable, meaning they cannot be changed once created.\n",
        " - Mutable Example:\n",
        "\n",
        "  Lists: Lists are ordered, mutable sequences that can contain elements of    different data types. You can add, remove, or modify elements within a list after it's created.\n",
        " - my_list=\n",
        "  my_list.append(4)  \n",
        "  print(my_list)  \n",
        "  my_list = 0  \n",
        "  print(my_list)  \n",
        "\n",
        "  - Immutable Example:\n",
        "           Strings: Strings are sequences of characters that cannot be modified after creation. To change a string, you must create a new string.\n",
        "           my_string = \"hello\"\n",
        "           my_string = \"Hello\"  \n",
        "           print(my_string)  \n"
      ],
      "metadata": {
        "id": "wHUgpo2QMc2G"
      }
    },
    {
      "cell_type": "markdown",
      "source": [
        "3.\tWhat are the main differences between lists and tuples in python?\n",
        "  -  Lists: are mutable, meaning their elements can be changed (added,   removed,   or modified) after the list has been created.\n",
        "  - Tuples: are immutable, meaning their elements cannot be changed once the tuple is created.\n"
      ],
      "metadata": {
        "id": "lmmVfKDGNMwX"
      }
    },
    {
      "cell_type": "markdown",
      "source": [
        "4.\tDescribe how dictionaries store data?\n",
        "   - Dictionaries are unordered collections of data and are represented with curly brackets { } . Like lists, dictionaries are mutable(changeable) and indexed. With dictionaries, data is stored in a key:value format. In this example, myCar is the variable that we have assigned our dictionary to."
      ],
      "metadata": {
        "id": "6ptCnlCANaY1"
      }
    },
    {
      "cell_type": "markdown",
      "source": [
        "5.\tWhy might you use a set instead of a list in python?\n",
        "   - sets cannot have multiple occurrences of the same element, it makes sets highly useful to efficiently remove duplicate values from a list or tuple and to perform common math operations like unions and intersections."
      ],
      "metadata": {
        "id": "QYJVX2ChNi5c"
      }
    },
    {
      "cell_type": "markdown",
      "source": [
        "6.\tWhat is a string in python, and how is it different from a list?\n",
        "   - A string is a sequence of characters. A list a sequence of values which can be characters, integers or even another list (referred to as a nested list). A dictionary is a more general version of a list and is made up a set of keys and values where there is a mapping between a given key and its corresponding value."
      ],
      "metadata": {
        "id": "3DBm-0RuNrO0"
      }
    },
    {
      "cell_type": "markdown",
      "source": [
        "7.\tHow do tuples ensure data integrity in python?\n",
        "   - Tuples in Python ensure data integrity primarily through their immutability. This characteristic means that once a tuple is created, its elements cannot be modified, added, or removed."
      ],
      "metadata": {
        "id": "7bt8XOTDNzPM"
      }
    },
    {
      "cell_type": "markdown",
      "source": [
        "8.\tWhat is a hash table, and how does it relate to dictionaries in python?\n",
        "  - A hash table is a data structure that stores key-value pairs, allowing for efficient retrieval of values based on their associated keys. It achieves this efficiency by using a hash function to map keys to numerical indices, which then point to specific locations (buckets or slots) in an underlying array where the corresponding values are stored. This mapping allows for average-case constant time complexity for operations like insertion, deletion, and lookup.\n",
        "  The relationship between hash tables and dictionaries in Python is that Python's built-in dict type is implemented using a hash table. This means that when you create and use a dictionary in Python, you are internally utilizing the principles and mechanisms of a hash table.\n"
      ],
      "metadata": {
        "id": "bjhoQrbyN5Z0"
      }
    },
    {
      "cell_type": "markdown",
      "source": [
        "9. Can lists contain different data types in python?\n",
        "  - Yes, Python lists can contain elements of different data types. This is a key feature of Python lists, making them highly flexible and versatile."
      ],
      "metadata": {
        "id": "ebk3wsskPbOo"
      }
    },
    {
      "cell_type": "markdown",
      "source": [
        "10.\tExplain why strings are immutable in python?\n",
        "  - Python strings are immutable, meaning their content cannot be changed after they are created. Any operation that appears to modify a string, such as concatenation or character replacement, actually results in the creation of a new string object. The original string remains unchanged in memory."
      ],
      "metadata": {
        "id": "48X0QrbJPmPg"
      }
    },
    {
      "cell_type": "markdown",
      "source": [
        "11.\tWhat advantages do dictionaries offer over lists for certain tasks?\n",
        "  - Dictionaries excel in scenarios requiring fast lookups, key-value associations, and complex data mappings, while lists are ideal for ordered collections, sequential processing, and simple data storage."
      ],
      "metadata": {
        "id": "wQIWOpO0QjAe"
      }
    },
    {
      "cell_type": "markdown",
      "source": [
        "12.\tDescribe a scenario where using a tuple would be preferable over a list?\n",
        "   - Use a list if you need a mutable collection of items where you may need to add, remove, or change elements. Lists are more flexible and have more built-in methods, making them ideal for dynamic collections. Use a tuple if you need an immutable collection where the elements won't change after creation."
      ],
      "metadata": {
        "id": "yKLWnKjaQpPv"
      }
    },
    {
      "cell_type": "markdown",
      "source": [
        "13.\tHow do sets handle duplicate values in python?\n",
        "  - Python sets fundamentally do not allow duplicate values. They are  designed to store only unique elements. When an attempt is made to add an element that already exists within a set, the set simply ignores the addition and the existing element remains, effectively preventing any duplicates from being stored.\n"
      ],
      "metadata": {
        "id": "eVviOP_xRgOX"
      }
    },
    {
      "cell_type": "markdown",
      "source": [
        "14.\tHow does the “in” keyword work differently for lists and dictionaries?\n",
        "   - As mentioned above, the in operation for the dictionary tests on keys. The key of the dictionary is a unique value as well as the set, and the execution time is about the same as for sets. On the other hand, dictionary values can be duplicated like a list."
      ],
      "metadata": {
        "id": "MjUUZuXuRwEM"
      }
    },
    {
      "cell_type": "markdown",
      "source": [
        "15.\tCan you modify the elements of a tuple? Explain why or why not?\n",
        "   - No, you cannot directly modify the elements of a Python tuple. Tuples are immutable, meaning their contents cannot be changed after creation. This is a fundamental characteristic of tuples, differentiating them from lists which are mutable."
      ],
      "metadata": {
        "id": "EJKty7jXR9fL"
      }
    },
    {
      "cell_type": "markdown",
      "source": [
        "16.\tWhat is a nested dictionary, and give an example of its use case?\n",
        "  - A nested dictionary in Python is a dictionary that contains other dictionaries as its values. This allows you to create hierarchical data structures, where each level represents a different layer of information. Essentially, it's a dictionary within a dictionary, enabling complex relationships to be represented effectively."
      ],
      "metadata": {
        "id": "bnm8SnxQSFLT"
      }
    },
    {
      "cell_type": "markdown",
      "source": [
        "17.\tDescribe the time complexity of accessing elements in a dictionary?\n",
        "  - Python dictionaries provide a fast and efficient way to store and retrieve data using key value pair so understanding the time complexities of dictionary operations is very important for optimizing performance in our programs."
      ],
      "metadata": {
        "id": "h8x1XSKYSMA-"
      }
    },
    {
      "cell_type": "markdown",
      "source": [
        "18.\tIn what situations are lists preferred over dictionaries?\n",
        "   - If you need an ordered collection, like a sequence of user actions, lists are your go-to. On the other hand, when you need quick look-ups, like mapping usernames to user data, dictionaries are invaluable."
      ],
      "metadata": {
        "id": "tiTDIw8rSShz"
      }
    },
    {
      "cell_type": "markdown",
      "source": [
        "19.\tWhy are dictionaries considered unordered, and how does that affect data retrieval?\n",
        "  - Dictionary is considered as an unordered collection of objects... A dictionary is termed an unordered collection of objects because dictionaries do not maintain any inherent order of the items based on when they were added."
      ],
      "metadata": {
        "id": "fcjHzyzxSZqy"
      }
    },
    {
      "cell_type": "markdown",
      "source": [
        "20.\tExplain the difference between a list and a dictionary in terms of data retrieval?\n",
        "   - Lists and Dictionaries in Python are inbuilt data structures that are used to store data. Lists are linear in nature whereas dictionaries stored the data in key-value pairs. In this article, we will see the difference between the two and find out the time complexities and space complexities which arises when we try to store data and try to perform certain operations on them."
      ],
      "metadata": {
        "id": "0cITsb2dSq3a"
      }
    },
    {
      "cell_type": "markdown",
      "source": [
        "# Practical Questions And Answers"
      ],
      "metadata": {
        "id": "t8i63YBRS8GZ"
      }
    },
    {
      "cell_type": "markdown",
      "source": [
        "1. Write a code to create a string with your name and print it.?"
      ],
      "metadata": {
        "id": "_IsZ8SK4TFKR"
      }
    },
    {
      "cell_type": "code",
      "source": [
        "my_name = \"Jayanta\"\n",
        "print(my_name)\n"
      ],
      "metadata": {
        "colab": {
          "base_uri": "https://localhost:8080/"
        },
        "id": "KTJSuxNtTI3B",
        "outputId": "aca1fd10-b6d8-4465-c8c8-d70e612e1b84"
      },
      "execution_count": null,
      "outputs": [
        {
          "output_type": "stream",
          "name": "stdout",
          "text": [
            "Jayanta\n"
          ]
        }
      ]
    },
    {
      "cell_type": "markdown",
      "source": [
        "2. Write a code to find the length of the string “Hello World”.?"
      ],
      "metadata": {
        "id": "TkGkVuOgTruB"
      }
    },
    {
      "cell_type": "code",
      "source": [
        "string = \"Jayanta\"\n",
        "length = len(string)\n",
        "print(length)"
      ],
      "metadata": {
        "colab": {
          "base_uri": "https://localhost:8080/"
        },
        "id": "DMWNHS67Twsg",
        "outputId": "e8dd78fe-5e58-4a81-a892-65db61a9a043"
      },
      "execution_count": null,
      "outputs": [
        {
          "output_type": "stream",
          "name": "stdout",
          "text": [
            "7\n"
          ]
        }
      ]
    },
    {
      "cell_type": "markdown",
      "source": [
        "3. Write a code to slice the first 3 characters from the string “Python Programming”.?"
      ],
      "metadata": {
        "id": "TIqGAPtjT_SH"
      }
    },
    {
      "cell_type": "code",
      "source": [
        "my_string = \"python programming\"\n",
        "sliced_string = my_string[:3]\n",
        "print(sliced_string)"
      ],
      "metadata": {
        "colab": {
          "base_uri": "https://localhost:8080/"
        },
        "id": "EJS5W6gaUDW5",
        "outputId": "38d333b0-2691-43d0-bd7f-cfa0b477b42b"
      },
      "execution_count": null,
      "outputs": [
        {
          "output_type": "stream",
          "name": "stdout",
          "text": [
            "pyt\n"
          ]
        }
      ]
    },
    {
      "cell_type": "markdown",
      "source": [
        "4. Write a code to convert the string “hello” to uppercase.?"
      ],
      "metadata": {
        "id": "iE-LFdmqVC_1"
      }
    },
    {
      "cell_type": "code",
      "source": [
        "my_string = \"hello\"\n",
        "uppercase_string = my_string.upper()\n",
        "print(uppercase_string)"
      ],
      "metadata": {
        "colab": {
          "base_uri": "https://localhost:8080/"
        },
        "id": "4rdOBEHfVO89",
        "outputId": "8a85c303-3be9-4c1a-9a59-18a3dc8113da"
      },
      "execution_count": null,
      "outputs": [
        {
          "output_type": "stream",
          "name": "stdout",
          "text": [
            "HELLO\n"
          ]
        }
      ]
    },
    {
      "cell_type": "markdown",
      "source": [
        "5. Write a code to replace the word “apple” with “orange” in the string “I like apple”.?"
      ],
      "metadata": {
        "id": "NCktPNDyVjC8"
      }
    },
    {
      "cell_type": "code",
      "source": [
        "text = \"I like apple\"\n",
        "new_text = text.replace(\"apple\", \"orange\")\n",
        "print(new_text)"
      ],
      "metadata": {
        "colab": {
          "base_uri": "https://localhost:8080/"
        },
        "id": "NTx9_3FqVoNc",
        "outputId": "0c633702-b78e-433e-ce79-96ef22e53c1d"
      },
      "execution_count": null,
      "outputs": [
        {
          "output_type": "stream",
          "name": "stdout",
          "text": [
            "I like orange\n"
          ]
        }
      ]
    },
    {
      "cell_type": "markdown",
      "source": [
        "6. Write a code to create a list with numbers 1 to 5 and print it.?"
      ],
      "metadata": {
        "id": "0oj2RnUdV0rM"
      }
    },
    {
      "cell_type": "code",
      "source": [
        "# Create a list with numbers from 1 to 5\n",
        "my_list = [1, 2, 3, 4, 5]\n",
        "# Print the list\n",
        "print(my_list)"
      ],
      "metadata": {
        "colab": {
          "base_uri": "https://localhost:8080/"
        },
        "id": "k082tredV3xs",
        "outputId": "403e85aa-4b8b-42d8-bb22-c28d7d915aea"
      },
      "execution_count": null,
      "outputs": [
        {
          "output_type": "stream",
          "name": "stdout",
          "text": [
            "[1, 2, 3, 4, 5]\n"
          ]
        }
      ]
    },
    {
      "cell_type": "markdown",
      "source": [
        "7. Write a code to append the number 10 to the list [1,2,3,4]"
      ],
      "metadata": {
        "id": "ssk4-ExYWFaU"
      }
    },
    {
      "cell_type": "code",
      "source": [
        "my_list = [1, 2, 3, 4]\n",
        "my_list.append(10)\n",
        "print(my_list)"
      ],
      "metadata": {
        "colab": {
          "base_uri": "https://localhost:8080/"
        },
        "id": "oV6CGtHfWJl8",
        "outputId": "0b0255cd-1e1e-4caa-eb10-bd7ec25c9056"
      },
      "execution_count": null,
      "outputs": [
        {
          "output_type": "stream",
          "name": "stdout",
          "text": [
            "[1, 2, 3, 4, 10]\n"
          ]
        }
      ]
    },
    {
      "cell_type": "markdown",
      "source": [
        "8. Write a code to remove the number 3 from the list [1,2,3,4,5]"
      ],
      "metadata": {
        "id": "-asHSS4zWawz"
      }
    },
    {
      "cell_type": "code",
      "source": [
        "my_list = [1, 2, 3, 4, 5]\n",
        "my_list.remove(3)\n",
        "print(my_list)"
      ],
      "metadata": {
        "colab": {
          "base_uri": "https://localhost:8080/"
        },
        "id": "Z9WyCQHvWftD",
        "outputId": "79bb835d-da4b-44cc-9768-b6b461bff37a"
      },
      "execution_count": null,
      "outputs": [
        {
          "output_type": "stream",
          "name": "stdout",
          "text": [
            "[1, 2, 4, 5]\n"
          ]
        }
      ]
    },
    {
      "cell_type": "markdown",
      "source": [
        "9. Write a code to access the second element in the list [‘a’,’b’,’c’,’d’]"
      ],
      "metadata": {
        "id": "4TMJB4n9WzD6"
      }
    },
    {
      "cell_type": "code",
      "source": [
        "my_list = ['a', 'b', 'c', 'd']\n",
        "second_element = my_list[1]\n",
        "print(second_element)"
      ],
      "metadata": {
        "colab": {
          "base_uri": "https://localhost:8080/"
        },
        "id": "HmQXp9aBW05C",
        "outputId": "993ee61c-0a97-4c8b-817f-1536bfa5ea3c"
      },
      "execution_count": null,
      "outputs": [
        {
          "output_type": "stream",
          "name": "stdout",
          "text": [
            "b\n"
          ]
        }
      ]
    },
    {
      "cell_type": "markdown",
      "source": [
        "10. Write a code to reverse the list [10,20,30,40,50]."
      ],
      "metadata": {
        "id": "5BGjGRvFW_sb"
      }
    },
    {
      "cell_type": "code",
      "source": [
        "my_list = [10, 20, 30, 40, 50]\n",
        "my_list.reverse()\n",
        "print(my_list)"
      ],
      "metadata": {
        "colab": {
          "base_uri": "https://localhost:8080/"
        },
        "id": "VjqluWzyXE2C",
        "outputId": "e79d2167-ed2a-4306-99c2-284676a1a7d8"
      },
      "execution_count": null,
      "outputs": [
        {
          "output_type": "stream",
          "name": "stdout",
          "text": [
            "[50, 40, 30, 20, 10]\n"
          ]
        }
      ]
    },
    {
      "cell_type": "markdown",
      "source": [
        "11. Write a code to create a tuple with the elements 100,200,300 and print it.?"
      ],
      "metadata": {
        "id": "CMPaJQOZXOLJ"
      }
    },
    {
      "cell_type": "code",
      "source": [
        "my_tuple = (100, 200, 300)\n",
        "# Print the tuple\n",
        "print(my_tuple)"
      ],
      "metadata": {
        "colab": {
          "base_uri": "https://localhost:8080/"
        },
        "id": "q_JPqEpJXTn5",
        "outputId": "4c64eb61-aeb2-41ee-912a-08fc29f15c21"
      },
      "execution_count": null,
      "outputs": [
        {
          "output_type": "stream",
          "name": "stdout",
          "text": [
            "(100, 200, 300)\n"
          ]
        }
      ]
    },
    {
      "cell_type": "markdown",
      "source": [
        "12. Write a code to access the second-to-last element of the tuple (‘red’,’green’,’blue’,’yellow’).?"
      ],
      "metadata": {
        "id": "Uy2C-yxIXnSY"
      }
    },
    {
      "cell_type": "code",
      "source": [
        "my_tuple = ('red', 'green', 'blue', 'yellow')\n",
        "second_to_last = my_tuple[-2]\n",
        "print(second_to_last)"
      ],
      "metadata": {
        "colab": {
          "base_uri": "https://localhost:8080/"
        },
        "id": "0PbaLCBAXuDw",
        "outputId": "9004e180-9b17-4c5e-ca90-26a92e50d024"
      },
      "execution_count": null,
      "outputs": [
        {
          "output_type": "stream",
          "name": "stdout",
          "text": [
            "blue\n"
          ]
        }
      ]
    },
    {
      "cell_type": "markdown",
      "source": [
        "13. Write a code to find the minimum number in the tuple (10,20,5,15).?"
      ],
      "metadata": {
        "id": "XrOVgLDaX17Y"
      }
    },
    {
      "cell_type": "code",
      "source": [
        "my_tuple = (10, 20, 5, 15)\n",
        "min_value = min(my_tuple)\n",
        "print(min_value)"
      ],
      "metadata": {
        "colab": {
          "base_uri": "https://localhost:8080/"
        },
        "id": "hu9gonl4X8GY",
        "outputId": "8512d21f-18db-47b5-f7dc-35678b18ee7d"
      },
      "execution_count": null,
      "outputs": [
        {
          "output_type": "stream",
          "name": "stdout",
          "text": [
            "5\n"
          ]
        }
      ]
    },
    {
      "cell_type": "markdown",
      "source": [
        "14. Write a code to find the index of the element “cat” in the tuple (‘dog’,’cat’,’rabbit’).?"
      ],
      "metadata": {
        "id": "hyA09ia1YAwY"
      }
    },
    {
      "cell_type": "code",
      "source": [
        "my_tuple = ('dog', 'cat', 'rabbit')\n",
        "element_to_find = 'cat'\n",
        "\n",
        "try:\n",
        "    index = my_tuple.index(element_to_find)\n",
        "    print(f\"The index of '{element_to_find}' is: {index}\")\n",
        "except ValueError:\n",
        "    print(f\"'{element_to_find}' not found in the tuple.\")"
      ],
      "metadata": {
        "colab": {
          "base_uri": "https://localhost:8080/"
        },
        "id": "aJpKW9xSYFPH",
        "outputId": "5fb2b9a2-24cb-41c5-8165-ed8ed542e289"
      },
      "execution_count": null,
      "outputs": [
        {
          "output_type": "stream",
          "name": "stdout",
          "text": [
            "The index of 'cat' is: 1\n"
          ]
        }
      ]
    },
    {
      "cell_type": "markdown",
      "source": [
        "15. Write a code to create a tuple containing three different fruits and check if “kiwi” is in it.?"
      ],
      "metadata": {
        "id": "NAU8qkXRYbeH"
      }
    },
    {
      "cell_type": "code",
      "source": [
        "fruits = (\"apple\", \"banana\", \"orange\")\n",
        "if \"kiwi\" in fruits:\n",
        "    print(\"Yes, 'kiwi' is in the fruits tuple.\")\n",
        "else:\n",
        "    print(\"No, 'kiwi' is not in the fruits tuple.\")"
      ],
      "metadata": {
        "colab": {
          "base_uri": "https://localhost:8080/"
        },
        "id": "CsNMc5b2YgP3",
        "outputId": "281db088-be8f-44b2-d1eb-8bb6392d9f51"
      },
      "execution_count": null,
      "outputs": [
        {
          "output_type": "stream",
          "name": "stdout",
          "text": [
            "No, 'kiwi' is not in the fruits tuple.\n"
          ]
        }
      ]
    },
    {
      "cell_type": "markdown",
      "source": [
        "16. Write a code to create a set with the elements ‘a’,b’,’c’ and print it.?"
      ],
      "metadata": {
        "id": "8BT7ypOPY07X"
      }
    },
    {
      "cell_type": "code",
      "source": [
        "# Create a set with the specified elements\n",
        "my_set = {'a', 'b', 'c'}\n",
        "# Print the set\n",
        "print(my_set)"
      ],
      "metadata": {
        "colab": {
          "base_uri": "https://localhost:8080/"
        },
        "id": "FbpOVPNeY9mG",
        "outputId": "a540f6af-e494-4916-c317-944447a76ba1"
      },
      "execution_count": null,
      "outputs": [
        {
          "output_type": "stream",
          "name": "stdout",
          "text": [
            "{'b', 'a', 'c'}\n"
          ]
        }
      ]
    },
    {
      "cell_type": "markdown",
      "source": [
        "17. Write a code to clear all elements from the set {1,2,3,4,5}.?"
      ],
      "metadata": {
        "id": "8Msa4AKYZI_G"
      }
    },
    {
      "cell_type": "code",
      "source": [
        "my_set = {1, 2, 3, 4, 5}\n",
        "my_set.clear()\n",
        "print(my_set)"
      ],
      "metadata": {
        "colab": {
          "base_uri": "https://localhost:8080/"
        },
        "id": "Q_YxAX1AZN72",
        "outputId": "70330d14-72df-4289-a0ac-7871929dee36"
      },
      "execution_count": null,
      "outputs": [
        {
          "output_type": "stream",
          "name": "stdout",
          "text": [
            "set()\n"
          ]
        }
      ]
    },
    {
      "cell_type": "markdown",
      "source": [
        "18. Write a code to remove the element 4 from the set {1,2,3,4}.?"
      ],
      "metadata": {
        "id": "puq5gG5qZYcu"
      }
    },
    {
      "cell_type": "code",
      "source": [
        "my_set = {1, 2, 3, 4}\n",
        "my_set.remove(4)\n",
        "print(my_set)"
      ],
      "metadata": {
        "colab": {
          "base_uri": "https://localhost:8080/"
        },
        "id": "TmEMj8LyZhqt",
        "outputId": "90d95001-a8cc-4849-d785-809d665651a6"
      },
      "execution_count": null,
      "outputs": [
        {
          "output_type": "stream",
          "name": "stdout",
          "text": [
            "{1, 2, 3}\n"
          ]
        }
      ]
    },
    {
      "cell_type": "markdown",
      "source": [
        "19. Write a code to find the union of two sets {1,2,3} and {3,4,5}.?"
      ],
      "metadata": {
        "id": "vJ6UPitLZomu"
      }
    },
    {
      "cell_type": "code",
      "source": [
        "# Define the two sets\n",
        "set1 = {1, 2, 3}\n",
        "set2 = {3, 4, 5}\n",
        "union_set_method = set1.union(set2)\n",
        "print(\"Union using union() method:\", union_set_method)\n",
        "union_set_operator = set1 | set2\n",
        "print(\"Union using | operator:\", union_set_operator)\n"
      ],
      "metadata": {
        "colab": {
          "base_uri": "https://localhost:8080/"
        },
        "id": "_3G4LPJGZqYu",
        "outputId": "9bc8c645-0b16-43df-a532-dbc104b7ae48"
      },
      "execution_count": null,
      "outputs": [
        {
          "output_type": "stream",
          "name": "stdout",
          "text": [
            "Union using union() method: {1, 2, 3, 4, 5}\n",
            "Union using | operator: {1, 2, 3, 4, 5}\n"
          ]
        }
      ]
    },
    {
      "cell_type": "markdown",
      "source": [
        "20. Write a code to find the intersection of two sets {1,2,3} and {2,3,4}"
      ],
      "metadata": {
        "id": "FP-WBr7iZ78U"
      }
    },
    {
      "cell_type": "code",
      "source": [
        "set1 = {1, 2, 3}\n",
        "set2 = {2, 3, 4}\n",
        "intersection_set = set1.intersection(set2)\n",
        "print(intersection_set)"
      ],
      "metadata": {
        "colab": {
          "base_uri": "https://localhost:8080/"
        },
        "id": "CqcrtrosaBy1",
        "outputId": "3ae42a45-95f8-45e6-dd4f-302ef3d9ac6b"
      },
      "execution_count": null,
      "outputs": [
        {
          "output_type": "stream",
          "name": "stdout",
          "text": [
            "{2, 3}\n"
          ]
        }
      ]
    },
    {
      "cell_type": "markdown",
      "source": [
        "21. Write a code to create a dictionary with the keys “name”, “age”, and “city”, and print it.?"
      ],
      "metadata": {
        "id": "UFai5wLmaHjc"
      }
    },
    {
      "cell_type": "code",
      "source": [
        "my_dict = {\n",
        "    \"name\": \"Jayanta\",\n",
        "    \"age\": 30,\n",
        "    \"city\": \"Kolkata\"\n",
        "}\n",
        "print(my_dict)"
      ],
      "metadata": {
        "colab": {
          "base_uri": "https://localhost:8080/"
        },
        "id": "AwFv8W3naNc0",
        "outputId": "71887581-5975-4736-b34d-94745d2bda00"
      },
      "execution_count": null,
      "outputs": [
        {
          "output_type": "stream",
          "name": "stdout",
          "text": [
            "{'name': 'Jayanta', 'age': 30, 'city': 'Kolkata'}\n"
          ]
        }
      ]
    },
    {
      "cell_type": "markdown",
      "source": [
        "22. Write a Code to add a new key-value pair “country”: “USA” to the dictionary {‘name’: ‘John’, ‘age’:25}."
      ],
      "metadata": {
        "id": "FDiykF6Yagm0"
      }
    },
    {
      "cell_type": "code",
      "source": [
        "my_dict = {'name': 'John', 'age': 25}\n",
        "my_dict['country'] = 'USA'\n",
        "print(my_dict)"
      ],
      "metadata": {
        "colab": {
          "base_uri": "https://localhost:8080/"
        },
        "id": "d2G_cqH0ajT1",
        "outputId": "9c8faecd-9105-473b-b624-70d35978c2f1"
      },
      "execution_count": null,
      "outputs": [
        {
          "output_type": "stream",
          "name": "stdout",
          "text": [
            "{'name': 'John', 'age': 25, 'country': 'USA'}\n"
          ]
        }
      ]
    },
    {
      "cell_type": "markdown",
      "source": [
        "23. Write a code to access the value associated with the key “name” in the dictionary {‘name’:’Alice’, ‘age’:30}"
      ],
      "metadata": {
        "id": "Nz9buWfRbDqH"
      }
    },
    {
      "cell_type": "code",
      "source": [
        "my_dict = {'name': 'Alice', 'age': 30}\n",
        "name_value = my_dict['name']\n",
        "print(name_value)"
      ],
      "metadata": {
        "colab": {
          "base_uri": "https://localhost:8080/"
        },
        "id": "WOUoUuusbHLs",
        "outputId": "2e388205-c472-41c9-d139-b4badd2afb60"
      },
      "execution_count": null,
      "outputs": [
        {
          "output_type": "stream",
          "name": "stdout",
          "text": [
            "Alice\n"
          ]
        }
      ]
    },
    {
      "cell_type": "markdown",
      "source": [
        "24. Write a code to remove the key “age” from the dictionary {‘name’: ’Bob’, ‘age’:22, ‘city’: ’New York’}."
      ],
      "metadata": {
        "id": "FVKLwMCgbRUE"
      }
    },
    {
      "cell_type": "code",
      "source": [
        "my_dict = {'name': 'Bob', 'age': 22, 'city': 'New York'}\n",
        "del my_dict['age']\n",
        "print(my_dict)"
      ],
      "metadata": {
        "colab": {
          "base_uri": "https://localhost:8080/"
        },
        "id": "wYap85wSbU4q",
        "outputId": "416f8977-8bbb-4054-fb50-7e06adb44110"
      },
      "execution_count": null,
      "outputs": [
        {
          "output_type": "stream",
          "name": "stdout",
          "text": [
            "{'name': 'Bob', 'city': 'New York'}\n"
          ]
        }
      ]
    },
    {
      "cell_type": "markdown",
      "source": [
        "25. Write a code to check if the key “city” exists in the dictionary {‘name’: ‘Alice’, ‘city’: ‘Paris’}."
      ],
      "metadata": {
        "id": "lsc57B-Hbs9Z"
      }
    },
    {
      "cell_type": "code",
      "source": [
        "my_dict = {'name': 'Alice', 'city': 'Paris'}\n",
        "if 'city' in my_dict:\n",
        "    print(\"The key 'city' exists in the dictionary.\")\n",
        "else:\n",
        "    print(\"The key 'city' does not exist in the dictionary.\")"
      ],
      "metadata": {
        "colab": {
          "base_uri": "https://localhost:8080/"
        },
        "id": "6k2sRlHsbvwZ",
        "outputId": "0d260088-183e-42c4-d55f-fa5491e2cbb1"
      },
      "execution_count": null,
      "outputs": [
        {
          "output_type": "stream",
          "name": "stdout",
          "text": [
            "The key 'city' exists in the dictionary.\n"
          ]
        }
      ]
    },
    {
      "cell_type": "markdown",
      "source": [
        "26. Write a code to create a list, a tuple, and a dictionary, and print them all."
      ],
      "metadata": {
        "id": "6deMsHnNb9gh"
      }
    },
    {
      "cell_type": "code",
      "source": [
        "# Create a list\n",
        "my_list = [10, 20, 30, \"apple\", \"banana\"]\n",
        "# Create a tuple\n",
        "my_tuple = (1, 2, 3, \"red\", \"green\")\n",
        "# Create a dictionary\n",
        "my_dictionary = {\"name\": \"Alice\", \"age\": 30, \"city\": \"New York\"}\n",
        "# Print the list\n",
        "print(\"My List:\", my_list)\n",
        "# Print the tuple\n",
        "print(\"My Tuple:\", my_tuple)\n",
        "# Print the dictionary\n",
        "print(\"My Dictionary:\", my_dictionary)"
      ],
      "metadata": {
        "colab": {
          "base_uri": "https://localhost:8080/"
        },
        "id": "wkgQghX-cDnp",
        "outputId": "be4eb322-667d-4c83-8e05-8f7d545b0405"
      },
      "execution_count": null,
      "outputs": [
        {
          "output_type": "stream",
          "name": "stdout",
          "text": [
            "My List: [10, 20, 30, 'apple', 'banana']\n",
            "My Tuple: (1, 2, 3, 'red', 'green')\n",
            "My Dictionary: {'name': 'Alice', 'age': 30, 'city': 'New York'}\n"
          ]
        }
      ]
    },
    {
      "cell_type": "markdown",
      "source": [
        "27. Write a code to create a list of 5 random numbers between 1 and 100, sort it in ascending order, and print the result.(replaced)"
      ],
      "metadata": {
        "id": "LOygWN14dG-X"
      }
    },
    {
      "cell_type": "code",
      "source": [
        "import random\n",
        "random_numbers = [random.randint(1, 100) for _ in range(5)]\n",
        "random_numbers.sort()\n",
        "print(random_numbers)"
      ],
      "metadata": {
        "colab": {
          "base_uri": "https://localhost:8080/"
        },
        "id": "Jaz5Xp_gdM7H",
        "outputId": "c05b64ef-ccd8-4d63-c0cc-6d5351cbfebe"
      },
      "execution_count": null,
      "outputs": [
        {
          "output_type": "stream",
          "name": "stdout",
          "text": [
            "[7, 75, 80, 88, 89]\n"
          ]
        }
      ]
    },
    {
      "cell_type": "markdown",
      "source": [
        "28. Write a code to create a list with strings and print the element at the third index."
      ],
      "metadata": {
        "id": "aX-eVf7HdeH-"
      }
    },
    {
      "cell_type": "code",
      "source": [
        "my_list = [\"apple\", \"banana\", \"cherry\", \"date\", \"elderberry\"]\n",
        "print(my_list[2])"
      ],
      "metadata": {
        "colab": {
          "base_uri": "https://localhost:8080/"
        },
        "id": "BV325ONrdhFG",
        "outputId": "39e51f46-3830-40dc-c2ad-c1980eab9c00"
      },
      "execution_count": null,
      "outputs": [
        {
          "output_type": "stream",
          "name": "stdout",
          "text": [
            "cherry\n"
          ]
        }
      ]
    },
    {
      "cell_type": "markdown",
      "source": [
        "29. Write a code to combine two dictionaries into one and print the result."
      ],
      "metadata": {
        "id": "Vy00VJ7-eCQ2"
      }
    },
    {
      "cell_type": "code",
      "source": [
        "   dict1 = {'a': 1, 'b': 2}\n",
        "   dict2 = {'b': 3, 'c': 4}\n",
        "   merged_dict = dict1 | dict2\n",
        "   print(merged_dict)"
      ],
      "metadata": {
        "colab": {
          "base_uri": "https://localhost:8080/"
        },
        "id": "7VOtLiGmeHYV",
        "outputId": "c2c9d8bd-c736-4f39-a93f-f619b4043291"
      },
      "execution_count": null,
      "outputs": [
        {
          "output_type": "stream",
          "name": "stdout",
          "text": [
            "{'a': 1, 'b': 3, 'c': 4}\n"
          ]
        }
      ]
    },
    {
      "cell_type": "markdown",
      "source": [
        "30. Write a code to convert a list of strings into a set."
      ],
      "metadata": {
        "id": "WLa94JzGeSyc"
      }
    },
    {
      "cell_type": "code",
      "source": [
        "my_list = [\"apple\", \"banana\", \"cherry\", \"apple\", \"date\"]\n",
        "my_set = set(my_list)\n",
        "print(my_set)"
      ],
      "metadata": {
        "colab": {
          "base_uri": "https://localhost:8080/"
        },
        "id": "a0Eh-9r7eaeE",
        "outputId": "6214fadf-3685-459f-df70-5d5d1dd17ab6"
      },
      "execution_count": null,
      "outputs": [
        {
          "output_type": "stream",
          "name": "stdout",
          "text": [
            "{'cherry', 'banana', 'date', 'apple'}\n"
          ]
        }
      ]
    }
  ]
}